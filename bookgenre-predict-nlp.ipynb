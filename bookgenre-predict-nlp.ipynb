{
 "cells": [
  {
   "cell_type": "markdown",
   "id": "de407fa3",
   "metadata": {
    "papermill": {
     "duration": 0.009694,
     "end_time": "2022-10-11T02:05:30.800640",
     "exception": false,
     "start_time": "2022-10-11T02:05:30.790946",
     "status": "completed"
    },
    "tags": []
   },
   "source": [
    "# Book Genre Prediction\n",
    "Welcome, this my final project for the Introduction to Deep Learning which will be based on NLP and try to replicate some of the models to evaluate which one does a better job and if we could improve on them to get a higher accuracy score.\n",
    "\n",
    "## The Challenge\n",
    "With this [dataset](https://www.kaggle.com/datasets/athu1105/book-genre-prediction?select=data.csv) provided by the Kaggle uer Atharva Inamdar the objective is to predict the genre of a book with its sinopsis as the main feature.\n",
    "\n",
    "This is something more interesting to me since this is not only a **True** or **False** problem but we have more categories here which is relevant to NLP problems where we need to get a deeper understanding of the inputs.\n",
    "\n",
    "I'll be using text vectorization and try to use two different models and compare them.\n",
    "\n",
    "# The Data\n",
    "## Exploratory Data Analyis\n",
    "I'll start with exploring the provided data and see the dimension and features of the provided data."
   ]
  },
  {
   "cell_type": "code",
   "execution_count": 1,
   "id": "901f9cbe",
   "metadata": {
    "execution": {
     "iopub.execute_input": "2022-10-11T02:05:30.823200Z",
     "iopub.status.busy": "2022-10-11T02:05:30.822699Z",
     "iopub.status.idle": "2022-10-11T02:05:37.107602Z",
     "shell.execute_reply": "2022-10-11T02:05:37.106632Z"
    },
    "papermill": {
     "duration": 6.301357,
     "end_time": "2022-10-11T02:05:37.110287",
     "exception": false,
     "start_time": "2022-10-11T02:05:30.808930",
     "status": "completed"
    },
    "tags": []
   },
   "outputs": [],
   "source": [
    "import pandas as pd\n",
    "import numpy as np\n",
    "from ast import literal_eval\n",
    "import matplotlib.pyplot as plt\n",
    "from sklearn.model_selection import train_test_split\n",
    "from sklearn.preprocessing import LabelEncoder\n",
    "from sklearn.metrics import accuracy_score\n",
    "\n",
    "import tensorflow as tf\n",
    "import tensorflow_hub as hub\n",
    "from tensorflow.keras import layers\n",
    "from tensorflow.keras.layers import TextVectorization\n",
    "from tensorflow.keras import losses"
   ]
  },
  {
   "cell_type": "code",
   "execution_count": 2,
   "id": "4cbf43a5",
   "metadata": {
    "execution": {
     "iopub.execute_input": "2022-10-11T02:05:37.123869Z",
     "iopub.status.busy": "2022-10-11T02:05:37.123043Z",
     "iopub.status.idle": "2022-10-11T02:05:37.358206Z",
     "shell.execute_reply": "2022-10-11T02:05:37.357196Z"
    },
    "papermill": {
     "duration": 0.244163,
     "end_time": "2022-10-11T02:05:37.360366",
     "exception": false,
     "start_time": "2022-10-11T02:05:37.116203",
     "status": "completed"
    },
    "tags": []
   },
   "outputs": [
    {
     "data": {
      "text/html": [
       "<div>\n",
       "<style scoped>\n",
       "    .dataframe tbody tr th:only-of-type {\n",
       "        vertical-align: middle;\n",
       "    }\n",
       "\n",
       "    .dataframe tbody tr th {\n",
       "        vertical-align: top;\n",
       "    }\n",
       "\n",
       "    .dataframe thead th {\n",
       "        text-align: right;\n",
       "    }\n",
       "</style>\n",
       "<table border=\"1\" class=\"dataframe\">\n",
       "  <thead>\n",
       "    <tr style=\"text-align: right;\">\n",
       "      <th></th>\n",
       "      <th>title</th>\n",
       "      <th>genre</th>\n",
       "      <th>summary</th>\n",
       "    </tr>\n",
       "  </thead>\n",
       "  <tbody>\n",
       "    <tr>\n",
       "      <th>0</th>\n",
       "      <td>Drowned Wednesday</td>\n",
       "      <td>fantasy</td>\n",
       "      <td>Drowned Wednesday is the first Trustee among ...</td>\n",
       "    </tr>\n",
       "    <tr>\n",
       "      <th>1</th>\n",
       "      <td>The Lost Hero</td>\n",
       "      <td>fantasy</td>\n",
       "      <td>As the book opens, Jason awakens on a school ...</td>\n",
       "    </tr>\n",
       "    <tr>\n",
       "      <th>2</th>\n",
       "      <td>The Eyes of the Overworld</td>\n",
       "      <td>fantasy</td>\n",
       "      <td>Cugel is easily persuaded by the merchant Fia...</td>\n",
       "    </tr>\n",
       "    <tr>\n",
       "      <th>3</th>\n",
       "      <td>Magic's Promise</td>\n",
       "      <td>fantasy</td>\n",
       "      <td>The book opens with Herald-Mage Vanyel return...</td>\n",
       "    </tr>\n",
       "    <tr>\n",
       "      <th>4</th>\n",
       "      <td>Taran Wanderer</td>\n",
       "      <td>fantasy</td>\n",
       "      <td>Taran and Gurgi have returned to Caer Dallben...</td>\n",
       "    </tr>\n",
       "  </tbody>\n",
       "</table>\n",
       "</div>"
      ],
      "text/plain": [
       "                       title    genre  \\\n",
       "0          Drowned Wednesday  fantasy   \n",
       "1              The Lost Hero  fantasy   \n",
       "2  The Eyes of the Overworld  fantasy   \n",
       "3            Magic's Promise  fantasy   \n",
       "4             Taran Wanderer  fantasy   \n",
       "\n",
       "                                             summary  \n",
       "0   Drowned Wednesday is the first Trustee among ...  \n",
       "1   As the book opens, Jason awakens on a school ...  \n",
       "2   Cugel is easily persuaded by the merchant Fia...  \n",
       "3   The book opens with Herald-Mage Vanyel return...  \n",
       "4   Taran and Gurgi have returned to Caer Dallben...  "
      ]
     },
     "execution_count": 2,
     "metadata": {},
     "output_type": "execute_result"
    }
   ],
   "source": [
    "# Importing the Data\n",
    "data = pd.read_csv('../input/book-genre-prediction/data.csv', usecols=['title', 'genre', 'summary'], dtype='str')\n",
    "data.head()"
   ]
  },
  {
   "cell_type": "code",
   "execution_count": 3,
   "id": "e3e4c9d0",
   "metadata": {
    "execution": {
     "iopub.execute_input": "2022-10-11T02:05:37.374709Z",
     "iopub.status.busy": "2022-10-11T02:05:37.373278Z",
     "iopub.status.idle": "2022-10-11T02:05:37.383964Z",
     "shell.execute_reply": "2022-10-11T02:05:37.383152Z"
    },
    "papermill": {
     "duration": 0.019317,
     "end_time": "2022-10-11T02:05:37.385831",
     "exception": false,
     "start_time": "2022-10-11T02:05:37.366514",
     "status": "completed"
    },
    "tags": []
   },
   "outputs": [
    {
     "data": {
      "text/plain": [
       "<bound method DataFrame.info of                                   title    genre  \\\n",
       "0                     Drowned Wednesday  fantasy   \n",
       "1                         The Lost Hero  fantasy   \n",
       "2             The Eyes of the Overworld  fantasy   \n",
       "3                       Magic's Promise  fantasy   \n",
       "4                        Taran Wanderer  fantasy   \n",
       "...                                 ...      ...   \n",
       "4652                            Hounded  fantasy   \n",
       "4653  Charlie and the Chocolate Factory  fantasy   \n",
       "4654                         Red Rising  fantasy   \n",
       "4655                          Frostbite  fantasy   \n",
       "4656                           Radiance  fantasy   \n",
       "\n",
       "                                                summary  \n",
       "0      Drowned Wednesday is the first Trustee among ...  \n",
       "1      As the book opens, Jason awakens on a school ...  \n",
       "2      Cugel is easily persuaded by the merchant Fia...  \n",
       "3      The book opens with Herald-Mage Vanyel return...  \n",
       "4      Taran and Gurgi have returned to Caer Dallben...  \n",
       "...                                                 ...  \n",
       "4652  Atticus O’Sullivan, last of the Druids, lives ...  \n",
       "4653  Charlie Bucket's wonderful adventure begins wh...  \n",
       "4654  \"I live for the dream that my children will be...  \n",
       "4655  Rose loves Dimitri, Dimitri might love Tasha, ...  \n",
       "4656  The Prince of no value\\nBrishen Khaskem, princ...  \n",
       "\n",
       "[4657 rows x 3 columns]>"
      ]
     },
     "execution_count": 3,
     "metadata": {},
     "output_type": "execute_result"
    }
   ],
   "source": [
    "# Brief overview of the data how it looks\n",
    "data.info"
   ]
  },
  {
   "cell_type": "code",
   "execution_count": 4,
   "id": "12ac43f2",
   "metadata": {
    "execution": {
     "iopub.execute_input": "2022-10-11T02:05:37.399439Z",
     "iopub.status.busy": "2022-10-11T02:05:37.398621Z",
     "iopub.status.idle": "2022-10-11T02:05:37.409771Z",
     "shell.execute_reply": "2022-10-11T02:05:37.408237Z"
    },
    "papermill": {
     "duration": 0.019966,
     "end_time": "2022-10-11T02:05:37.411721",
     "exception": false,
     "start_time": "2022-10-11T02:05:37.391755",
     "status": "completed"
    },
    "tags": []
   },
   "outputs": [
    {
     "name": "stdout",
     "output_type": "stream",
     "text": [
      "[\" Thomas Jerome Newton is a humanoid alien who comes to Earth seeking to construct a spaceship to ferry others from his home planet, Anthea, to Earth. Anthea is experiencing a terrible drought after many nuclear wars, and the population has dwindled to less than 300. They have hundreds of superior starships, but for not being used for over 500 years, they are unusable because of little to no fuel. They have no water, loads of food that is slowly dwindling, and feeble solar power. Like all Antheans, he is super-intelligent, but he has been selected to complete this mission for his strength, due to the harsh climate and gravity of Earth compared to the cold, small Anthea. Getting to Earth via a lifeboat, Newton first lands in the state of Kentucky but quickly becomes familiarized with the environment and aspires to become an entrepreneur. Newton uses advanced technology from his home planet to patent many inventions on Earth, and rises as the head of a technology-based conglomerate to incredible wealth. This wealth is needed to construct his own space vehicle program in order to ferry the rest of the Anthean population. Along the way he meets Betty Jo, a simple Kentucky woman. She falls in love with him. He does not share these feelings, but takes her, and his curious fuel-technician Nathan Bryce, as his few friends while he runs his company in the shadows. Betty Jo introduces Newton to many customs of Earth culture, amongst them church-going, fashion, and alcohol. However, his appetite for alcohol soon invokes much emotional instability, as he is forced to deal with intense human emotions with which Antheans are unfamiliar. His secret identity as an alien is discovered by Nathan Bryce, but Newton, aware that he has been discovered, is relieved to reveal his identity to someone for the first time. The Antheans he will ferry to Earth will flourish and hopefully make use of their superintelligence to influence Earth to peace, prosperity, and safety from the apocalypse. However, the CIA arrests Newton, having followed him since his appearance on Earth and having recorded this private conversation with Bryce. They submit him to rigorous tests and analysis, but ultimately find that, despite much conclusive evidence of his alien identity, it would be pointless to release the results because the public would not believe the truth. Such claims would also reflect poorly on the Democratic Party, responsible for the capture. The CIA releases Newton, but no sooner than he tries to exit his building, the FBI, uninformed by the CIA that Newton is exempt from further tests, commences their own brief examinations. Their final examination is ultimately an X-ray of Newton's skull, through his eyes. Newton, whose eyes are sensitive to X-rays, tries to stop them to no avail and is blinded. The story of Newton's blinding reaches the press in a frenzy and then is used by the Republican Party to depict the Democrats as being corrupt, and leads to their seizure of power, which is to inevitably lead to apocalypse. Newton, in a final confrontation with Bryce, is bitterly unable to continue his spaceship project due to planetary alignments having changed during captivity and the troubles of his blindness. He creates a recording of alien messages which he hopes to be broadcast via radio to his home.\"]\n"
     ]
    }
   ],
   "source": [
    "# Example summary of a book\n",
    "example = data.sample(1, random_state=42, axis=0)\n",
    "print(list(example['summary']))"
   ]
  },
  {
   "cell_type": "code",
   "execution_count": 5,
   "id": "06757144",
   "metadata": {
    "execution": {
     "iopub.execute_input": "2022-10-11T02:05:37.425918Z",
     "iopub.status.busy": "2022-10-11T02:05:37.424545Z",
     "iopub.status.idle": "2022-10-11T02:05:37.434310Z",
     "shell.execute_reply": "2022-10-11T02:05:37.433327Z"
    },
    "papermill": {
     "duration": 0.019073,
     "end_time": "2022-10-11T02:05:37.436787",
     "exception": false,
     "start_time": "2022-10-11T02:05:37.417714",
     "status": "completed"
    },
    "tags": []
   },
   "outputs": [
    {
     "name": "stdout",
     "output_type": "stream",
     "text": [
      "Number of genres: 10\n",
      "['fantasy' 'science' 'crime' 'history' 'horror' 'thriller' 'psychology'\n",
      " 'romance' 'sports' 'travel']\n"
     ]
    }
   ],
   "source": [
    "# List of genres to be predicted\n",
    "genre_list = data['genre'].unique()\n",
    "print('Number of genres:', len(genre_list))\n",
    "print(genre_list)"
   ]
  },
  {
   "cell_type": "code",
   "execution_count": 6,
   "id": "ec6e7f9c",
   "metadata": {
    "execution": {
     "iopub.execute_input": "2022-10-11T02:05:37.451612Z",
     "iopub.status.busy": "2022-10-11T02:05:37.450186Z",
     "iopub.status.idle": "2022-10-11T02:05:37.459463Z",
     "shell.execute_reply": "2022-10-11T02:05:37.458508Z"
    },
    "papermill": {
     "duration": 0.018204,
     "end_time": "2022-10-11T02:05:37.461425",
     "exception": false,
     "start_time": "2022-10-11T02:05:37.443221",
     "status": "completed"
    },
    "tags": []
   },
   "outputs": [
    {
     "data": {
      "text/plain": [
       "title      0\n",
       "genre      0\n",
       "summary    0\n",
       "dtype: int64"
      ]
     },
     "execution_count": 6,
     "metadata": {},
     "output_type": "execute_result"
    }
   ],
   "source": [
    "# Missing Data\n",
    "data.isna().sum()"
   ]
  },
  {
   "cell_type": "code",
   "execution_count": 7,
   "id": "6c8201ae",
   "metadata": {
    "execution": {
     "iopub.execute_input": "2022-10-11T02:05:37.476619Z",
     "iopub.status.busy": "2022-10-11T02:05:37.475869Z",
     "iopub.status.idle": "2022-10-11T02:05:37.742283Z",
     "shell.execute_reply": "2022-10-11T02:05:37.741182Z"
    },
    "papermill": {
     "duration": 0.276555,
     "end_time": "2022-10-11T02:05:37.744449",
     "exception": false,
     "start_time": "2022-10-11T02:05:37.467894",
     "status": "completed"
    },
    "tags": []
   },
   "outputs": [
    {
     "data": {
      "text/plain": [
       "<AxesSubplot:>"
      ]
     },
     "execution_count": 7,
     "metadata": {},
     "output_type": "execute_result"
    },
    {
     "data": {
      "image/png": "[encoded data removed]",
      "text/plain": [
       "<Figure size 720x360 with 1 Axes>"
      ]
     },
     "metadata": {
      "needs_background": "light"
     },
     "output_type": "display_data"
    }
   ],
   "source": [
    "# Distribution of target lables\n",
    "data['genre'].hist(figsize=(10,5))"
   ]
  },
  {
   "cell_type": "code",
   "execution_count": 8,
   "id": "2f5d253b",
   "metadata": {
    "execution": {
     "iopub.execute_input": "2022-10-11T02:05:37.759543Z",
     "iopub.status.busy": "2022-10-11T02:05:37.758671Z",
     "iopub.status.idle": "2022-10-11T02:05:38.328195Z",
     "shell.execute_reply": "2022-10-11T02:05:38.327268Z"
    },
    "papermill": {
     "duration": 0.578921,
     "end_time": "2022-10-11T02:05:38.330222",
     "exception": false,
     "start_time": "2022-10-11T02:05:37.751301",
     "status": "completed"
    },
    "tags": []
   },
   "outputs": [
    {
     "data": {
      "text/plain": [
       "<AxesSubplot:title={'center':'Summary word count'}>"
      ]
     },
     "execution_count": 8,
     "metadata": {},
     "output_type": "execute_result"
    },
    {
     "data": {
      "image/png": "[encoded data removed]",
      "text/plain": [
       "<Figure size 720x360 with 2 Axes>"
      ]
     },
     "metadata": {
      "needs_background": "light"
     },
     "output_type": "display_data"
    }
   ],
   "source": [
    "plt.subplots(1,2, figsize=(10,5))\n",
    "\n",
    "plt.subplot(121)\n",
    "plt.title('Title word count')\n",
    "data['title'].str.split().map(len).hist(bins=20)\n",
    "\n",
    "plt.subplot(122)\n",
    "plt.title('Summary word count')\n",
    "data['summary'].str.split().map(len).hist(bins=20)"
   ]
  },
  {
   "cell_type": "code",
   "execution_count": 9,
   "id": "e477945c",
   "metadata": {
    "execution": {
     "iopub.execute_input": "2022-10-11T02:05:38.347077Z",
     "iopub.status.busy": "2022-10-11T02:05:38.345450Z",
     "iopub.status.idle": "2022-10-11T02:05:38.363081Z",
     "shell.execute_reply": "2022-10-11T02:05:38.362000Z"
    },
    "papermill": {
     "duration": 0.02788,
     "end_time": "2022-10-11T02:05:38.365436",
     "exception": false,
     "start_time": "2022-10-11T02:05:38.337556",
     "status": "completed"
    },
    "tags": []
   },
   "outputs": [
    {
     "data": {
      "text/plain": [
       "count    4657.000000\n",
       "mean        3.477775\n",
       "std         2.580572\n",
       "min         1.000000\n",
       "25%         2.000000\n",
       "50%         3.000000\n",
       "75%         4.000000\n",
       "max        28.000000\n",
       "Name: title, dtype: float64"
      ]
     },
     "execution_count": 9,
     "metadata": {},
     "output_type": "execute_result"
    }
   ],
   "source": [
    "data['title'].str.split().map(len).describe()"
   ]
  },
  {
   "cell_type": "code",
   "execution_count": 10,
   "id": "2c761943",
   "metadata": {
    "execution": {
     "iopub.execute_input": "2022-10-11T02:05:38.380531Z",
     "iopub.status.busy": "2022-10-11T02:05:38.380239Z",
     "iopub.status.idle": "2022-10-11T02:05:38.600177Z",
     "shell.execute_reply": "2022-10-11T02:05:38.599299Z"
    },
    "papermill": {
     "duration": 0.229966,
     "end_time": "2022-10-11T02:05:38.602363",
     "exception": false,
     "start_time": "2022-10-11T02:05:38.372397",
     "status": "completed"
    },
    "tags": []
   },
   "outputs": [
    {
     "data": {
      "text/plain": [
       "count    4657.000000\n",
       "mean      359.148594\n",
       "std       437.584315\n",
       "min         1.000000\n",
       "25%       118.000000\n",
       "50%       193.000000\n",
       "75%       436.000000\n",
       "max      5663.000000\n",
       "Name: summary, dtype: float64"
      ]
     },
     "execution_count": 10,
     "metadata": {},
     "output_type": "execute_result"
    }
   ],
   "source": [
    "data['summary'].str.split().map(len).describe()"
   ]
  },
  {
   "cell_type": "markdown",
   "id": "f125e79c",
   "metadata": {
    "papermill": {
     "duration": 0.007143,
     "end_time": "2022-10-11T02:05:38.616961",
     "exception": false,
     "start_time": "2022-10-11T02:05:38.609818",
     "status": "completed"
    },
    "tags": []
   },
   "source": [
    "### EDA Results\n",
    "* We have a total of 4,657 records belonging to 10 different genres.\n",
    "    * There are no missing records.\n",
    "    * We see with describe the distribution of words which is important to define hyperparameters.\n",
    "* The genres are not evenly distributed, we might need to have more examples from `'psychology', 'romance', 'sports', 'travel'` in order to get a better model to predict this kind of cases.\n",
    "* Title and Summary word counts have some limits which will be useful for the text vectorization, for example a summary with more than 2,000 words might be an outlier we do not want to consider to avoid overfitting the model.\n",
    "* **Text Cleanup**\n",
    "    * A lot of the text contains periods comas and capital letters, I'll be handling this with the **Tensorflow** `TextVectorization` module in order for it to follow a standard set of rules to do this preprocessing for me. You can read more about it [**here**](https://www.tensorflow.org/api_docs/python/tf/keras/layers/TextVectorization) to see some of the arguments that are available within the library.\n",
    "\n",
    "## Data Preprocessing\n",
    "I'll begin with the data preprocessing by separating the goal label from the raw dataset and adjusting it to split it into multiple datasets which will be used for this project."
   ]
  },
  {
   "cell_type": "code",
   "execution_count": 11,
   "id": "60d8f190",
   "metadata": {
    "execution": {
     "iopub.execute_input": "2022-10-11T02:05:38.632794Z",
     "iopub.status.busy": "2022-10-11T02:05:38.632486Z",
     "iopub.status.idle": "2022-10-11T02:05:38.642542Z",
     "shell.execute_reply": "2022-10-11T02:05:38.641652Z"
    },
    "papermill": {
     "duration": 0.020311,
     "end_time": "2022-10-11T02:05:38.644536",
     "exception": false,
     "start_time": "2022-10-11T02:05:38.624225",
     "status": "completed"
    },
    "tags": []
   },
   "outputs": [],
   "source": [
    "train, test = train_test_split(data, test_size=0.2, random_state=42, shuffle=True, stratify=data['genre'].values)"
   ]
  },
  {
   "cell_type": "code",
   "execution_count": 12,
   "id": "230ed7d5",
   "metadata": {
    "execution": {
     "iopub.execute_input": "2022-10-11T02:05:38.660439Z",
     "iopub.status.busy": "2022-10-11T02:05:38.659902Z",
     "iopub.status.idle": "2022-10-11T02:05:38.669596Z",
     "shell.execute_reply": "2022-10-11T02:05:38.668158Z"
    },
    "papermill": {
     "duration": 0.020278,
     "end_time": "2022-10-11T02:05:38.672227",
     "exception": false,
     "start_time": "2022-10-11T02:05:38.651949",
     "status": "completed"
    },
    "tags": []
   },
   "outputs": [
    {
     "name": "stdout",
     "output_type": "stream",
     "text": [
      "Number of rows in training set: 3725\n",
      "Number of rows in validation set: 466\n",
      "Number of rows in test set: 466\n"
     ]
    }
   ],
   "source": [
    "validation = test.sample(frac=0.5, random_state=42)\n",
    "test.drop(validation.index, inplace=True)\n",
    "\n",
    "print(f'Number of rows in training set: {len(train)}')\n",
    "print(f'Number of rows in validation set: {len(validation)}')\n",
    "print(f'Number of rows in test set: {len(test)}')"
   ]
  },
  {
   "cell_type": "code",
   "execution_count": 13,
   "id": "4590ecba",
   "metadata": {
    "execution": {
     "iopub.execute_input": "2022-10-11T02:05:38.689287Z",
     "iopub.status.busy": "2022-10-11T02:05:38.688518Z",
     "iopub.status.idle": "2022-10-11T02:05:41.847200Z",
     "shell.execute_reply": "2022-10-11T02:05:41.846308Z"
    },
    "papermill": {
     "duration": 3.168476,
     "end_time": "2022-10-11T02:05:41.849219",
     "exception": false,
     "start_time": "2022-10-11T02:05:38.680743",
     "status": "completed"
    },
    "tags": []
   },
   "outputs": [
    {
     "name": "stderr",
     "output_type": "stream",
     "text": [
      "2022-10-11 02:05:38.766352: I tensorflow/stream_executor/cuda/cuda_gpu_executor.cc:937] successful NUMA node read from SysFS had negative value (-1), but there must be at least one NUMA node, so returning NUMA node zero\n",
      "2022-10-11 02:05:38.865882: I tensorflow/stream_executor/cuda/cuda_gpu_executor.cc:937] successful NUMA node read from SysFS had negative value (-1), but there must be at least one NUMA node, so returning NUMA node zero\n",
      "2022-10-11 02:05:38.866638: I tensorflow/stream_executor/cuda/cuda_gpu_executor.cc:937] successful NUMA node read from SysFS had negative value (-1), but there must be at least one NUMA node, so returning NUMA node zero\n",
      "2022-10-11 02:05:38.869865: I tensorflow/core/platform/cpu_feature_guard.cc:142] This TensorFlow binary is optimized with oneAPI Deep Neural Network Library (oneDNN) to use the following CPU instructions in performance-critical operations:  AVX2 AVX512F FMA\n",
      "To enable them in other operations, rebuild TensorFlow with the appropriate compiler flags.\n",
      "2022-10-11 02:05:38.870195: I tensorflow/stream_executor/cuda/cuda_gpu_executor.cc:937] successful NUMA node read from SysFS had negative value (-1), but there must be at least one NUMA node, so returning NUMA node zero\n",
      "2022-10-11 02:05:38.870945: I tensorflow/stream_executor/cuda/cuda_gpu_executor.cc:937] successful NUMA node read from SysFS had negative value (-1), but there must be at least one NUMA node, so returning NUMA node zero\n",
      "2022-10-11 02:05:38.871629: I tensorflow/stream_executor/cuda/cuda_gpu_executor.cc:937] successful NUMA node read from SysFS had negative value (-1), but there must be at least one NUMA node, so returning NUMA node zero\n",
      "2022-10-11 02:05:41.145497: I tensorflow/stream_executor/cuda/cuda_gpu_executor.cc:937] successful NUMA node read from SysFS had negative value (-1), but there must be at least one NUMA node, so returning NUMA node zero\n",
      "2022-10-11 02:05:41.146471: I tensorflow/stream_executor/cuda/cuda_gpu_executor.cc:937] successful NUMA node read from SysFS had negative value (-1), but there must be at least one NUMA node, so returning NUMA node zero\n",
      "2022-10-11 02:05:41.147223: I tensorflow/stream_executor/cuda/cuda_gpu_executor.cc:937] successful NUMA node read from SysFS had negative value (-1), but there must be at least one NUMA node, so returning NUMA node zero\n",
      "2022-10-11 02:05:41.147894: I tensorflow/core/common_runtime/gpu/gpu_device.cc:1510] Created device /job:localhost/replica:0/task:0/device:GPU:0 with 15401 MB memory:  -> device: 0, name: Tesla P100-PCIE-16GB, pci bus id: 0000:00:04.0, compute capability: 6.0\n",
      "2022-10-11 02:05:41.605739: I tensorflow/compiler/mlir/mlir_graph_optimization_pass.cc:185] None of the MLIR Optimization Passes are enabled (registered 2)\n"
     ]
    },
    {
     "name": "stdout",
     "output_type": "stream",
     "text": [
      "Vocabulary: ['[UNK]', 'thriller', 'fantasy', 'science', 'horror', 'history', 'crime', 'romance', 'travel', 'sports', 'psychology']\n"
     ]
    }
   ],
   "source": [
    "terms = tf.constant(train['genre'].values)\n",
    "lookup = tf.keras.layers.StringLookup(output_mode='one_hot')\n",
    "lookup.adapt(terms)\n",
    "vocab = lookup.get_vocabulary()\n",
    "\n",
    "def invert_multi_hot(encoded_labels):\n",
    "    \"\"\"Reverse a single multi-hot encoded label to a tuple of vocab terms.\"\"\"\n",
    "    hot_indices = np.argwhere(encoded_labels == 1.0)[..., 0]\n",
    "    return np.take(vocab, hot_indices)\n",
    "\n",
    "print(f'Vocabulary: {vocab}')"
   ]
  },
  {
   "cell_type": "code",
   "execution_count": 14,
   "id": "ecdbd30b",
   "metadata": {
    "execution": {
     "iopub.execute_input": "2022-10-11T02:05:41.865891Z",
     "iopub.status.busy": "2022-10-11T02:05:41.865072Z",
     "iopub.status.idle": "2022-10-11T02:05:41.894540Z",
     "shell.execute_reply": "2022-10-11T02:05:41.893322Z"
    },
    "papermill": {
     "duration": 0.040421,
     "end_time": "2022-10-11T02:05:41.897220",
     "exception": false,
     "start_time": "2022-10-11T02:05:41.856799",
     "status": "completed"
    },
    "tags": []
   },
   "outputs": [
    {
     "name": "stdout",
     "output_type": "stream",
     "text": [
      "Original label: fantasy\n",
      "Label-binarized representation: [0. 0. 1. 0. 0. 0. 0. 0. 0. 0. 0.]\n"
     ]
    }
   ],
   "source": [
    "sample_label = train['genre'].iloc[0]\n",
    "print(f\"Original label: {sample_label}\")\n",
    "\n",
    "label_binarized = lookup([sample_label])\n",
    "print(f\"Label-binarized representation: {label_binarized}\")"
   ]
  },
  {
   "cell_type": "code",
   "execution_count": 15,
   "id": "cee026b5",
   "metadata": {
    "execution": {
     "iopub.execute_input": "2022-10-11T02:05:41.913960Z",
     "iopub.status.busy": "2022-10-11T02:05:41.913683Z",
     "iopub.status.idle": "2022-10-11T02:05:41.920925Z",
     "shell.execute_reply": "2022-10-11T02:05:41.919980Z"
    },
    "papermill": {
     "duration": 0.017701,
     "end_time": "2022-10-11T02:05:41.922852",
     "exception": false,
     "start_time": "2022-10-11T02:05:41.905151",
     "status": "completed"
    },
    "tags": []
   },
   "outputs": [],
   "source": [
    "batch_size = 64 # Batch hyperparameter\n",
    "auto = tf.data.AUTOTUNE\n",
    "\n",
    "def make_dataset(dataframe, is_train=True):\n",
    "    labels = tf.ragged.constant(dataframe['genre'].values)\n",
    "    label_binarized = lookup(labels).numpy()\n",
    "    dataset = tf.data.Dataset.from_tensor_slices(\n",
    "        (dataframe['summary'].values, label_binarized)\n",
    "    )\n",
    "    dataset = dataset.shuffle(batch_size * 10) if is_train else dataset\n",
    "    return dataset.batch(batch_size)"
   ]
  },
  {
   "cell_type": "code",
   "execution_count": 16,
   "id": "c3cd3057",
   "metadata": {
    "execution": {
     "iopub.execute_input": "2022-10-11T02:05:41.939096Z",
     "iopub.status.busy": "2022-10-11T02:05:41.938363Z",
     "iopub.status.idle": "2022-10-11T02:05:41.990082Z",
     "shell.execute_reply": "2022-10-11T02:05:41.989138Z"
    },
    "papermill": {
     "duration": 0.062077,
     "end_time": "2022-10-11T02:05:41.992387",
     "exception": false,
     "start_time": "2022-10-11T02:05:41.930310",
     "status": "completed"
    },
    "tags": []
   },
   "outputs": [],
   "source": [
    "train_ds = make_dataset(train, is_train=True)\n",
    "validation_ds = make_dataset(validation, is_train=False)\n",
    "test_ds = make_dataset(test, is_train=False)"
   ]
  },
  {
   "cell_type": "code",
   "execution_count": 17,
   "id": "e0ec4d61",
   "metadata": {
    "execution": {
     "iopub.execute_input": "2022-10-11T02:05:42.008777Z",
     "iopub.status.busy": "2022-10-11T02:05:42.008233Z",
     "iopub.status.idle": "2022-10-11T02:05:42.280890Z",
     "shell.execute_reply": "2022-10-11T02:05:42.279755Z"
    },
    "papermill": {
     "duration": 0.28422,
     "end_time": "2022-10-11T02:05:42.284063",
     "exception": false,
     "start_time": "2022-10-11T02:05:41.999843",
     "status": "completed"
    },
    "tags": []
   },
   "outputs": [
    {
     "name": "stdout",
     "output_type": "stream",
     "text": [
      "Number of words in vocabulary: 102208\n"
     ]
    }
   ],
   "source": [
    "vocabulary = set()\n",
    "train['summary'].str.lower().str.split().apply(vocabulary.update)\n",
    "max_vocabulary = len(vocabulary)\n",
    "\n",
    "vectorize_layer = TextVectorization(\n",
    "    standardize='lower_and_strip_punctuation',\n",
    "    max_tokens=max_vocabulary,\n",
    "    ngrams = 2)\n",
    "#     output_mode='tf_idf')\n",
    "\n",
    "print(f'Number of words in vocabulary: {max_vocabulary}')"
   ]
  },
  {
   "cell_type": "code",
   "execution_count": 18,
   "id": "6629c439",
   "metadata": {
    "execution": {
     "iopub.execute_input": "2022-10-11T02:05:42.302776Z",
     "iopub.status.busy": "2022-10-11T02:05:42.302320Z",
     "iopub.status.idle": "2022-10-11T02:05:44.932138Z",
     "shell.execute_reply": "2022-10-11T02:05:44.931018Z"
    },
    "papermill": {
     "duration": 2.641763,
     "end_time": "2022-10-11T02:05:44.934605",
     "exception": false,
     "start_time": "2022-10-11T02:05:42.292842",
     "status": "completed"
    },
    "tags": []
   },
   "outputs": [],
   "source": [
    "with tf.device('/CPU:0'):\n",
    "    vectorize_layer.adapt(train_ds.map(lambda text, label: text))"
   ]
  },
  {
   "cell_type": "code",
   "execution_count": 19,
   "id": "c59293e7",
   "metadata": {
    "execution": {
     "iopub.execute_input": "2022-10-11T02:05:44.951048Z",
     "iopub.status.busy": "2022-10-11T02:05:44.950683Z",
     "iopub.status.idle": "2022-10-11T02:05:46.551584Z",
     "shell.execute_reply": "2022-10-11T02:05:46.549245Z"
    },
    "papermill": {
     "duration": 1.612004,
     "end_time": "2022-10-11T02:05:46.554386",
     "exception": false,
     "start_time": "2022-10-11T02:05:44.942382",
     "status": "completed"
    },
    "tags": []
   },
   "outputs": [
    {
     "name": "stdout",
     "output_type": "stream",
     "text": [
      "Model: \"sequential\"\n",
      "_________________________________________________________________\n",
      "Layer (type)                 Output Shape              Param #   \n",
      "=================================================================\n",
      "text_vectorization (TextVect (None, None)              0         \n",
      "_________________________________________________________________\n",
      "embedding (Embedding)        (None, None, 64)          6541312   \n",
      "_________________________________________________________________\n",
      "bidirectional (Bidirectional (None, 128)               66048     \n",
      "_________________________________________________________________\n",
      "dense (Dense)                (None, 64)                8256      \n",
      "_________________________________________________________________\n",
      "dense_1 (Dense)              (None, 11)                715       \n",
      "=================================================================\n",
      "Total params: 6,616,331\n",
      "Trainable params: 6,616,331\n",
      "Non-trainable params: 0\n",
      "_________________________________________________________________\n"
     ]
    }
   ],
   "source": [
    "model = tf.keras.Sequential([\n",
    "    vectorize_layer,\n",
    "    tf.keras.layers.Embedding(input_dim=len(vectorize_layer.get_vocabulary()),output_dim=64, mask_zero=True),\n",
    "    tf.keras.layers.Bidirectional(tf.keras.layers.LSTM(64)),\n",
    "    tf.keras.layers.Dense(64, activation='relu'),\n",
    "    tf.keras.layers.Dense(11)\n",
    "])\n",
    "\n",
    "model.summary()"
   ]
  },
  {
   "cell_type": "code",
   "execution_count": 20,
   "id": "d1092266",
   "metadata": {
    "execution": {
     "iopub.execute_input": "2022-10-11T02:05:46.571649Z",
     "iopub.status.busy": "2022-10-11T02:05:46.571346Z",
     "iopub.status.idle": "2022-10-11T02:05:46.584431Z",
     "shell.execute_reply": "2022-10-11T02:05:46.583504Z"
    },
    "papermill": {
     "duration": 0.023508,
     "end_time": "2022-10-11T02:05:46.586407",
     "exception": false,
     "start_time": "2022-10-11T02:05:46.562899",
     "status": "completed"
    },
    "tags": []
   },
   "outputs": [],
   "source": [
    "model.compile(loss=tf.keras.losses.CategoricalCrossentropy(from_logits=True),\n",
    "              optimizer=tf.keras.optimizers.Adam(learning_rate=1e-4),\n",
    "              metrics=['categorical_accuracy'])"
   ]
  },
  {
   "cell_type": "code",
   "execution_count": 21,
   "id": "5fac323b",
   "metadata": {
    "execution": {
     "iopub.execute_input": "2022-10-11T02:05:46.603990Z",
     "iopub.status.busy": "2022-10-11T02:05:46.603632Z",
     "iopub.status.idle": "2022-10-11T02:12:17.106310Z",
     "shell.execute_reply": "2022-10-11T02:12:17.105464Z"
    },
    "papermill": {
     "duration": 390.514311,
     "end_time": "2022-10-11T02:12:17.108478",
     "exception": false,
     "start_time": "2022-10-11T02:05:46.594167",
     "status": "completed"
    },
    "tags": []
   },
   "outputs": [
    {
     "name": "stdout",
     "output_type": "stream",
     "text": [
      "Epoch 1/20\n"
     ]
    },
    {
     "name": "stderr",
     "output_type": "stream",
     "text": [
      "2022-10-11 02:05:53.124554: I tensorflow/stream_executor/cuda/cuda_dnn.cc:369] Loaded cuDNN version 8005\n"
     ]
    },
    {
     "name": "stdout",
     "output_type": "stream",
     "text": [
      "59/59 [==============================] - 29s 347ms/step - loss: 2.3799 - categorical_accuracy: 0.1487 - val_loss: 2.3494 - val_categorical_accuracy: 0.1888\n",
      "Epoch 2/20\n",
      "59/59 [==============================] - 19s 316ms/step - loss: 2.2055 - categorical_accuracy: 0.1882 - val_loss: 2.0734 - val_categorical_accuracy: 0.2361\n",
      "Epoch 3/20\n",
      "59/59 [==============================] - 19s 317ms/step - loss: 2.0483 - categorical_accuracy: 0.2199 - val_loss: 2.0450 - val_categorical_accuracy: 0.2361\n",
      "Epoch 4/20\n",
      "59/59 [==============================] - 18s 305ms/step - loss: 2.0288 - categorical_accuracy: 0.2212 - val_loss: 2.0318 - val_categorical_accuracy: 0.2361\n",
      "Epoch 5/20\n",
      "59/59 [==============================] - 19s 315ms/step - loss: 1.9967 - categorical_accuracy: 0.2384 - val_loss: 1.9899 - val_categorical_accuracy: 0.2339\n",
      "Epoch 6/20\n",
      "59/59 [==============================] - 19s 318ms/step - loss: 1.9597 - categorical_accuracy: 0.2472 - val_loss: 2.0203 - val_categorical_accuracy: 0.2361\n",
      "Epoch 7/20\n",
      "59/59 [==============================] - 19s 313ms/step - loss: 1.9094 - categorical_accuracy: 0.2913 - val_loss: 1.9135 - val_categorical_accuracy: 0.3133\n",
      "Epoch 8/20\n",
      "59/59 [==============================] - 18s 308ms/step - loss: 1.7957 - categorical_accuracy: 0.3240 - val_loss: 1.9154 - val_categorical_accuracy: 0.3047\n",
      "Epoch 9/20\n",
      "59/59 [==============================] - 19s 317ms/step - loss: 1.7204 - categorical_accuracy: 0.3546 - val_loss: 1.8448 - val_categorical_accuracy: 0.3455\n",
      "Epoch 10/20\n",
      "59/59 [==============================] - 19s 312ms/step - loss: 1.6823 - categorical_accuracy: 0.3576 - val_loss: 1.8589 - val_categorical_accuracy: 0.3455\n",
      "Epoch 11/20\n",
      "59/59 [==============================] - 18s 308ms/step - loss: 1.5621 - categorical_accuracy: 0.3758 - val_loss: 1.8326 - val_categorical_accuracy: 0.3541\n",
      "Epoch 12/20\n",
      "59/59 [==============================] - 19s 313ms/step - loss: 1.4966 - categorical_accuracy: 0.3882 - val_loss: 1.8334 - val_categorical_accuracy: 0.3498\n",
      "Epoch 13/20\n",
      "59/59 [==============================] - 18s 312ms/step - loss: 1.4368 - categorical_accuracy: 0.3992 - val_loss: 1.8842 - val_categorical_accuracy: 0.3283\n",
      "Epoch 14/20\n",
      "59/59 [==============================] - 19s 321ms/step - loss: 1.4611 - categorical_accuracy: 0.4166 - val_loss: 1.8559 - val_categorical_accuracy: 0.3455\n",
      "Epoch 15/20\n",
      "59/59 [==============================] - 19s 309ms/step - loss: 1.2745 - categorical_accuracy: 0.5240 - val_loss: 1.8307 - val_categorical_accuracy: 0.3755\n",
      "Epoch 16/20\n",
      "59/59 [==============================] - 18s 307ms/step - loss: 1.1206 - categorical_accuracy: 0.6333 - val_loss: 1.8390 - val_categorical_accuracy: 0.3927\n",
      "Epoch 17/20\n",
      "59/59 [==============================] - 19s 317ms/step - loss: 0.9442 - categorical_accuracy: 0.7074 - val_loss: 1.8767 - val_categorical_accuracy: 0.3648\n",
      "Epoch 18/20\n",
      "59/59 [==============================] - 18s 308ms/step - loss: 0.8625 - categorical_accuracy: 0.7227 - val_loss: 1.9113 - val_categorical_accuracy: 0.3412\n",
      "Epoch 19/20\n",
      "59/59 [==============================] - 18s 312ms/step - loss: 0.6708 - categorical_accuracy: 0.7791 - val_loss: 2.1633 - val_categorical_accuracy: 0.3155\n",
      "Epoch 20/20\n",
      "59/59 [==============================] - 19s 317ms/step - loss: 0.5935 - categorical_accuracy: 0.8196 - val_loss: 2.1842 - val_categorical_accuracy: 0.3519\n"
     ]
    }
   ],
   "source": [
    "epochs = 20\n",
    "\n",
    "history = model.fit(train_ds,\n",
    "                    epochs=epochs,\n",
    "                    validation_data=validation_ds,\n",
    "                   )"
   ]
  },
  {
   "cell_type": "code",
   "execution_count": 22,
   "id": "5be36067",
   "metadata": {
    "execution": {
     "iopub.execute_input": "2022-10-11T02:12:17.247311Z",
     "iopub.status.busy": "2022-10-11T02:12:17.245696Z",
     "iopub.status.idle": "2022-10-11T02:12:18.857528Z",
     "shell.execute_reply": "2022-10-11T02:12:18.856324Z"
    },
    "papermill": {
     "duration": 1.68345,
     "end_time": "2022-10-11T02:12:18.860379",
     "exception": false,
     "start_time": "2022-10-11T02:12:17.176929",
     "status": "completed"
    },
    "tags": []
   },
   "outputs": [
    {
     "name": "stdout",
     "output_type": "stream",
     "text": [
      "Model: \"sequential_1\"\n",
      "_________________________________________________________________\n",
      "Layer (type)                 Output Shape              Param #   \n",
      "=================================================================\n",
      "text_vectorization (TextVect (None, None)              0         \n",
      "_________________________________________________________________\n",
      "embedding_1 (Embedding)      (None, None, 128)         13082624  \n",
      "_________________________________________________________________\n",
      "bidirectional_1 (Bidirection (None, 128)               98816     \n",
      "_________________________________________________________________\n",
      "dense_2 (Dense)              (None, 128)               16512     \n",
      "_________________________________________________________________\n",
      "dense_3 (Dense)              (None, 64)                8256      \n",
      "_________________________________________________________________\n",
      "dense_4 (Dense)              (None, 11)                715       \n",
      "=================================================================\n",
      "Total params: 13,206,923\n",
      "Trainable params: 13,206,923\n",
      "Non-trainable params: 0\n",
      "_________________________________________________________________\n"
     ]
    }
   ],
   "source": [
    "model2 = tf.keras.Sequential([\n",
    "    vectorize_layer,\n",
    "    tf.keras.layers.Embedding(input_dim=len(vectorize_layer.get_vocabulary()),output_dim=128, mask_zero=True),\n",
    "    tf.keras.layers.Bidirectional(tf.keras.layers.LSTM(64)),\n",
    "    tf.keras.layers.Dense(128, activation='relu'),\n",
    "    tf.keras.layers.Dense(64, activation='relu'),\n",
    "    tf.keras.layers.Dense(11),\n",
    "])\n",
    "\n",
    "model2.summary()"
   ]
  },
  {
   "cell_type": "code",
   "execution_count": 23,
   "id": "757c7bfd",
   "metadata": {
    "execution": {
     "iopub.execute_input": "2022-10-11T02:12:18.998612Z",
     "iopub.status.busy": "2022-10-11T02:12:18.998305Z",
     "iopub.status.idle": "2022-10-11T02:12:19.007665Z",
     "shell.execute_reply": "2022-10-11T02:12:19.006777Z"
    },
    "papermill": {
     "duration": 0.080376,
     "end_time": "2022-10-11T02:12:19.009653",
     "exception": false,
     "start_time": "2022-10-11T02:12:18.929277",
     "status": "completed"
    },
    "tags": []
   },
   "outputs": [],
   "source": [
    "model2.compile(loss=tf.keras.losses.CategoricalCrossentropy(from_logits=True),\n",
    "              optimizer=tf.keras.optimizers.Adam(learning_rate=1e-4),\n",
    "              metrics=['categorical_accuracy'])"
   ]
  },
  {
   "cell_type": "code",
   "execution_count": 24,
   "id": "6ad094a0",
   "metadata": {
    "execution": {
     "iopub.execute_input": "2022-10-11T02:12:19.147415Z",
     "iopub.status.busy": "2022-10-11T02:12:19.145869Z",
     "iopub.status.idle": "2022-10-11T02:19:02.991497Z",
     "shell.execute_reply": "2022-10-11T02:19:02.990166Z"
    },
    "papermill": {
     "duration": 403.916868,
     "end_time": "2022-10-11T02:19:02.994031",
     "exception": false,
     "start_time": "2022-10-11T02:12:19.077163",
     "status": "completed"
    },
    "tags": []
   },
   "outputs": [
    {
     "name": "stdout",
     "output_type": "stream",
     "text": [
      "Epoch 1/20\n",
      "59/59 [==============================] - 27s 349ms/step - loss: 2.3809 - categorical_accuracy: 0.1901 - val_loss: 2.3432 - val_categorical_accuracy: 0.2361\n",
      "Epoch 2/20\n",
      "59/59 [==============================] - 19s 325ms/step - loss: 2.1778 - categorical_accuracy: 0.2193 - val_loss: 2.0618 - val_categorical_accuracy: 0.2361\n",
      "Epoch 3/20\n",
      "59/59 [==============================] - 19s 320ms/step - loss: 2.0417 - categorical_accuracy: 0.2183 - val_loss: 2.0336 - val_categorical_accuracy: 0.2361\n",
      "Epoch 4/20\n",
      "59/59 [==============================] - 19s 316ms/step - loss: 1.9903 - categorical_accuracy: 0.2631 - val_loss: 1.9401 - val_categorical_accuracy: 0.3090\n",
      "Epoch 5/20\n",
      "59/59 [==============================] - 19s 322ms/step - loss: 1.8845 - categorical_accuracy: 0.2913 - val_loss: 1.9079 - val_categorical_accuracy: 0.3219\n",
      "Epoch 6/20\n",
      "59/59 [==============================] - 19s 322ms/step - loss: 1.8072 - categorical_accuracy: 0.3216 - val_loss: 1.8579 - val_categorical_accuracy: 0.3498\n",
      "Epoch 7/20\n",
      "59/59 [==============================] - 19s 317ms/step - loss: 1.6964 - categorical_accuracy: 0.3587 - val_loss: 1.7734 - val_categorical_accuracy: 0.3519\n",
      "Epoch 8/20\n",
      "59/59 [==============================] - 19s 316ms/step - loss: 1.6001 - categorical_accuracy: 0.3726 - val_loss: 1.7750 - val_categorical_accuracy: 0.3476\n",
      "Epoch 9/20\n",
      "59/59 [==============================] - 19s 322ms/step - loss: 1.5225 - categorical_accuracy: 0.3976 - val_loss: 1.7447 - val_categorical_accuracy: 0.3562\n",
      "Epoch 10/20\n",
      "59/59 [==============================] - 19s 322ms/step - loss: 1.4703 - categorical_accuracy: 0.4134 - val_loss: 1.7909 - val_categorical_accuracy: 0.3326\n",
      "Epoch 11/20\n",
      "59/59 [==============================] - 19s 327ms/step - loss: 1.4195 - categorical_accuracy: 0.4328 - val_loss: 1.8354 - val_categorical_accuracy: 0.3498\n",
      "Epoch 12/20\n",
      "59/59 [==============================] - 19s 323ms/step - loss: 1.3291 - categorical_accuracy: 0.4663 - val_loss: 1.7456 - val_categorical_accuracy: 0.3627\n",
      "Epoch 13/20\n",
      "59/59 [==============================] - 19s 324ms/step - loss: 1.2469 - categorical_accuracy: 0.5055 - val_loss: 1.7195 - val_categorical_accuracy: 0.3734\n",
      "Epoch 14/20\n",
      "59/59 [==============================] - 19s 330ms/step - loss: 1.1012 - categorical_accuracy: 0.5973 - val_loss: 1.7429 - val_categorical_accuracy: 0.3906\n",
      "Epoch 15/20\n",
      "59/59 [==============================] - 19s 330ms/step - loss: 0.9048 - categorical_accuracy: 0.7093 - val_loss: 1.9771 - val_categorical_accuracy: 0.3755\n",
      "Epoch 16/20\n",
      "59/59 [==============================] - 19s 328ms/step - loss: 0.7249 - categorical_accuracy: 0.7667 - val_loss: 1.9604 - val_categorical_accuracy: 0.3841\n",
      "Epoch 17/20\n",
      "59/59 [==============================] - 19s 324ms/step - loss: 0.6144 - categorical_accuracy: 0.7879 - val_loss: 1.9433 - val_categorical_accuracy: 0.3433\n",
      "Epoch 18/20\n",
      "59/59 [==============================] - 19s 312ms/step - loss: 0.5365 - categorical_accuracy: 0.8094 - val_loss: 2.0209 - val_categorical_accuracy: 0.3820\n",
      "Epoch 19/20\n",
      "59/59 [==============================] - 19s 322ms/step - loss: 0.4845 - categorical_accuracy: 0.8306 - val_loss: 2.1975 - val_categorical_accuracy: 0.3219\n",
      "Epoch 20/20\n",
      "59/59 [==============================] - 19s 318ms/step - loss: 0.4228 - categorical_accuracy: 0.8706 - val_loss: 2.2564 - val_categorical_accuracy: 0.3863\n"
     ]
    }
   ],
   "source": [
    "epochs = 20\n",
    "\n",
    "history2 = model2.fit(train_ds,\n",
    "                    epochs=epochs,\n",
    "                    validation_data=validation_ds,\n",
    "                   )"
   ]
  },
  {
   "cell_type": "code",
   "execution_count": 25,
   "id": "1be32893",
   "metadata": {
    "execution": {
     "iopub.execute_input": "2022-10-11T02:19:03.254455Z",
     "iopub.status.busy": "2022-10-11T02:19:03.253472Z",
     "iopub.status.idle": "2022-10-11T02:19:08.635957Z",
     "shell.execute_reply": "2022-10-11T02:19:08.634958Z"
    },
    "papermill": {
     "duration": 5.513884,
     "end_time": "2022-10-11T02:19:08.638376",
     "exception": false,
     "start_time": "2022-10-11T02:19:03.124492",
     "status": "completed"
    },
    "tags": []
   },
   "outputs": [],
   "source": [
    "text_vectorizer = layers.TextVectorization(\n",
    "    max_tokens=max_vocabulary, ngrams=2, output_mode=\"tf_idf\"\n",
    ")\n",
    "\n",
    "with tf.device(\"/CPU:0\"):\n",
    "    text_vectorizer.adapt(train_ds.map(lambda text, label: text))\n",
    "\n",
    "train_ds = train_ds.map(lambda text, label: (text_vectorizer(text), label), num_parallel_calls=auto).prefetch(auto)\n",
    "validation_ds = validation_ds.map(lambda text, label: (text_vectorizer(text), label), num_parallel_calls=auto).prefetch(auto)\n",
    "test_ds = test_ds.map(lambda text, label: (text_vectorizer(text), label), num_parallel_calls=auto).prefetch(auto)"
   ]
  },
  {
   "cell_type": "code",
   "execution_count": 26,
   "id": "f7bc9891",
   "metadata": {
    "execution": {
     "iopub.execute_input": "2022-10-11T02:19:08.907491Z",
     "iopub.status.busy": "2022-10-11T02:19:08.907028Z",
     "iopub.status.idle": "2022-10-11T02:19:08.912702Z",
     "shell.execute_reply": "2022-10-11T02:19:08.911632Z"
    },
    "papermill": {
     "duration": 0.139234,
     "end_time": "2022-10-11T02:19:08.914652",
     "exception": false,
     "start_time": "2022-10-11T02:19:08.775418",
     "status": "completed"
    },
    "tags": []
   },
   "outputs": [],
   "source": [
    "def make_model():\n",
    "    shallow_mlp_model = tf.keras.Sequential(\n",
    "        [\n",
    "            tf.keras.layers.Dense(512, activation=\"relu\"),\n",
    "            tf.keras.layers.Dense(256, activation=\"relu\"),\n",
    "            tf.keras.layers.Dense(lookup.vocabulary_size(), activation=\"sigmoid\"),\n",
    "        ]\n",
    "    )\n",
    "    return shallow_mlp_model"
   ]
  },
  {
   "cell_type": "code",
   "execution_count": 27,
   "id": "0c995eb6",
   "metadata": {
    "execution": {
     "iopub.execute_input": "2022-10-11T02:19:09.172139Z",
     "iopub.status.busy": "2022-10-11T02:19:09.171795Z",
     "iopub.status.idle": "2022-10-11T02:19:52.423210Z",
     "shell.execute_reply": "2022-10-11T02:19:52.422174Z"
    },
    "papermill": {
     "duration": 43.382629,
     "end_time": "2022-10-11T02:19:52.425498",
     "exception": false,
     "start_time": "2022-10-11T02:19:09.042869",
     "status": "completed"
    },
    "tags": []
   },
   "outputs": [
    {
     "name": "stdout",
     "output_type": "stream",
     "text": [
      "Epoch 1/20\n",
      "59/59 [==============================] - 2s 31ms/step - loss: 2.7373 - categorical_accuracy: 0.4859 - val_loss: 1.3838 - val_categorical_accuracy: 0.6588\n",
      "Epoch 2/20\n",
      "59/59 [==============================] - 2s 27ms/step - loss: 0.2426 - categorical_accuracy: 0.9643 - val_loss: 1.7626 - val_categorical_accuracy: 0.6352\n",
      "Epoch 3/20\n",
      "59/59 [==============================] - 2s 29ms/step - loss: 0.1605 - categorical_accuracy: 0.9705 - val_loss: 1.5208 - val_categorical_accuracy: 0.6588\n",
      "Epoch 4/20\n",
      "59/59 [==============================] - 2s 28ms/step - loss: 0.1107 - categorical_accuracy: 0.9756 - val_loss: 1.6306 - val_categorical_accuracy: 0.6695\n",
      "Epoch 5/20\n",
      "59/59 [==============================] - 2s 31ms/step - loss: 0.0923 - categorical_accuracy: 0.9729 - val_loss: 1.7358 - val_categorical_accuracy: 0.6545\n",
      "Epoch 6/20\n",
      "59/59 [==============================] - 2s 28ms/step - loss: 0.0746 - categorical_accuracy: 0.9742 - val_loss: 1.4585 - val_categorical_accuracy: 0.6974\n",
      "Epoch 7/20\n",
      "59/59 [==============================] - 2s 28ms/step - loss: 0.0611 - categorical_accuracy: 0.9726 - val_loss: 1.8400 - val_categorical_accuracy: 0.6524\n",
      "Epoch 8/20\n",
      "59/59 [==============================] - 2s 26ms/step - loss: 0.0678 - categorical_accuracy: 0.9740 - val_loss: 1.6527 - val_categorical_accuracy: 0.6631\n",
      "Epoch 9/20\n",
      "59/59 [==============================] - 2s 28ms/step - loss: 0.0601 - categorical_accuracy: 0.9734 - val_loss: 1.6883 - val_categorical_accuracy: 0.6803\n",
      "Epoch 10/20\n",
      "59/59 [==============================] - 2s 41ms/step - loss: 0.0582 - categorical_accuracy: 0.9710 - val_loss: 1.6547 - val_categorical_accuracy: 0.6717\n",
      "Epoch 11/20\n",
      "59/59 [==============================] - 2s 28ms/step - loss: 0.0539 - categorical_accuracy: 0.9723 - val_loss: 1.6027 - val_categorical_accuracy: 0.6781\n",
      "Epoch 12/20\n",
      "59/59 [==============================] - 2s 28ms/step - loss: 0.0502 - categorical_accuracy: 0.9732 - val_loss: 1.7096 - val_categorical_accuracy: 0.6567\n",
      "Epoch 13/20\n",
      "59/59 [==============================] - 2s 28ms/step - loss: 0.0555 - categorical_accuracy: 0.9737 - val_loss: 1.8255 - val_categorical_accuracy: 0.6524\n",
      "Epoch 14/20\n",
      "59/59 [==============================] - 2s 27ms/step - loss: 0.0490 - categorical_accuracy: 0.9753 - val_loss: 1.8683 - val_categorical_accuracy: 0.6609\n",
      "Epoch 15/20\n",
      "59/59 [==============================] - 2s 34ms/step - loss: 0.0418 - categorical_accuracy: 0.9745 - val_loss: 2.0020 - val_categorical_accuracy: 0.6631\n",
      "Epoch 16/20\n",
      "59/59 [==============================] - 2s 27ms/step - loss: 0.0390 - categorical_accuracy: 0.9721 - val_loss: 2.0167 - val_categorical_accuracy: 0.6416\n",
      "Epoch 17/20\n",
      "59/59 [==============================] - 2s 27ms/step - loss: 0.0372 - categorical_accuracy: 0.9742 - val_loss: 1.9124 - val_categorical_accuracy: 0.6652\n",
      "Epoch 18/20\n",
      "59/59 [==============================] - 2s 28ms/step - loss: 0.0365 - categorical_accuracy: 0.9726 - val_loss: 2.0394 - val_categorical_accuracy: 0.6502\n",
      "Epoch 19/20\n",
      "59/59 [==============================] - 2s 28ms/step - loss: 0.0345 - categorical_accuracy: 0.9753 - val_loss: 1.9799 - val_categorical_accuracy: 0.6567\n",
      "Epoch 20/20\n",
      "59/59 [==============================] - 2s 31ms/step - loss: 0.0371 - categorical_accuracy: 0.9750 - val_loss: 2.1899 - val_categorical_accuracy: 0.6545\n"
     ]
    },
    {
     "data": {
      "image/png": "[encoded data removed]",
      "text/plain": [
       "<Figure size 432x288 with 1 Axes>"
      ]
     },
     "metadata": {
      "needs_background": "light"
     },
     "output_type": "display_data"
    },
    {
     "data": {
      "image/png": "[encoded data removed]",
      "text/plain": [
       "<Figure size 432x288 with 1 Axes>"
      ]
     },
     "metadata": {
      "needs_background": "light"
     },
     "output_type": "display_data"
    }
   ],
   "source": [
    "epochs = 20\n",
    "\n",
    "shallow_mlp_model = make_model()\n",
    "shallow_mlp_model.compile(\n",
    "    loss=\"categorical_crossentropy\", optimizer=\"adam\", metrics=[\"categorical_accuracy\"]\n",
    ")\n",
    "\n",
    "history3 = shallow_mlp_model.fit(\n",
    "    train_ds, validation_data=validation_ds, epochs=epochs\n",
    ")\n",
    "\n",
    "\n",
    "def plot_result(item):\n",
    "    plt.plot(history3.history[item], label=item)\n",
    "    plt.plot(history3.history[\"val_\" + item], label=\"val_\" + item)\n",
    "    plt.xlabel(\"Epochs\")\n",
    "    plt.ylabel(item)\n",
    "    plt.title(\"Train and Validation {} Over Epochs\".format(item), fontsize=14)\n",
    "    plt.legend()\n",
    "    plt.grid()\n",
    "    plt.show()\n",
    "\n",
    "\n",
    "plot_result(\"loss\")\n",
    "plot_result(\"categorical_accuracy\")"
   ]
  }
 ],
 "metadata": {
  "kernelspec": {
   "display_name": "Python 3",
   "language": "python",
   "name": "python3"
  },
  "language_info": {
   "codemirror_mode": {
    "name": "ipython",
    "version": 3
   },
   "file_extension": ".py",
   "mimetype": "text/x-python",
   "name": "python",
   "nbconvert_exporter": "python",
   "pygments_lexer": "ipython3",
   "version": "3.7.12"
  },
  "papermill": {
   "default_parameters": {},
   "duration": 872.824626,
   "end_time": "2022-10-11T02:19:55.831554",
   "environment_variables": {},
   "exception": null,
   "input_path": "__notebook__.ipynb",
   "output_path": "__notebook__.ipynb",
   "parameters": {},
   "start_time": "2022-10-11T02:05:23.006928",
   "version": "2.3.4"
  }
 },
 "nbformat": 4,
 "nbformat_minor": 5
}
