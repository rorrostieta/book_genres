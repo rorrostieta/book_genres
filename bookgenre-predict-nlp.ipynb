{
 "cells": [
  {
   "cell_type": "markdown",
   "id": "c9635b9c",
   "metadata": {
    "papermill": {
     "duration": 0.003654,
     "end_time": "2022-10-09T23:06:48.001589",
     "exception": false,
     "start_time": "2022-10-09T23:06:47.997935",
     "status": "completed"
    },
    "tags": []
   },
   "source": [
    "# Book Genre Prediction\n",
    "Welcome, this my final project for the Introduction to Deep Learning which will be based on NLP and try to replicate some of the models to evaluate which one does a better job and if we could improve on them to get a higher accuracy score.\n",
    "\n",
    "## The Challenge\n",
    "With this [dataset](https://www.kaggle.com/datasets/athu1105/book-genre-prediction?select=data.csv) provided by the Kaggle uer Atharva Inamdar the objective is to predict the genre of a book with its sinopsis as the main feature.\n",
    "\n",
    "This is something more interesting to me since this is not only a **True** or **False** problem but we have more categories here which is relevant to NLP problems where we need to get a deeper understanding of the inputs.\n",
    "\n",
    "I'll be using text vectorization and try to use two different models and compare them.\n",
    "\n",
    "# The Data\n",
    "## Exploratory Data Analyis\n",
    "I'll start with exploring the provided data and see the dimension and features of the provided data."
   ]
  },
  {
   "cell_type": "code",
   "execution_count": 1,
   "id": "8630c1ed",
   "metadata": {
    "execution": {
     "iopub.execute_input": "2022-10-09T23:06:48.009376Z",
     "iopub.status.busy": "2022-10-09T23:06:48.008415Z",
     "iopub.status.idle": "2022-10-09T23:06:54.949335Z",
     "shell.execute_reply": "2022-10-09T23:06:54.948123Z"
    },
    "papermill": {
     "duration": 6.948278,
     "end_time": "2022-10-09T23:06:54.952439",
     "exception": false,
     "start_time": "2022-10-09T23:06:48.004161",
     "status": "completed"
    },
    "tags": []
   },
   "outputs": [],
   "source": [
    "import pandas as pd\n",
    "import numpy as np\n",
    "import matplotlib.pyplot as plt\n",
    "from sklearn.model_selection import train_test_split\n",
    "from sklearn.metrics import accuracy_score\n",
    "\n",
    "import tensorflow as tf\n",
    "from tensorflow.keras import layers\n",
    "from tensorflow.keras.layers import TextVectorization\n",
    "from tensorflow.keras import losses"
   ]
  },
  {
   "cell_type": "code",
   "execution_count": 2,
   "id": "a8dd4fda",
   "metadata": {
    "execution": {
     "iopub.execute_input": "2022-10-09T23:06:54.959754Z",
     "iopub.status.busy": "2022-10-09T23:06:54.959055Z",
     "iopub.status.idle": "2022-10-09T23:06:55.250226Z",
     "shell.execute_reply": "2022-10-09T23:06:55.249149Z"
    },
    "papermill": {
     "duration": 0.297271,
     "end_time": "2022-10-09T23:06:55.252611",
     "exception": false,
     "start_time": "2022-10-09T23:06:54.955340",
     "status": "completed"
    },
    "tags": []
   },
   "outputs": [
    {
     "data": {
      "text/html": [
       "<div>\n",
       "<style scoped>\n",
       "    .dataframe tbody tr th:only-of-type {\n",
       "        vertical-align: middle;\n",
       "    }\n",
       "\n",
       "    .dataframe tbody tr th {\n",
       "        vertical-align: top;\n",
       "    }\n",
       "\n",
       "    .dataframe thead th {\n",
       "        text-align: right;\n",
       "    }\n",
       "</style>\n",
       "<table border=\"1\" class=\"dataframe\">\n",
       "  <thead>\n",
       "    <tr style=\"text-align: right;\">\n",
       "      <th></th>\n",
       "      <th>title</th>\n",
       "      <th>genre</th>\n",
       "      <th>summary</th>\n",
       "    </tr>\n",
       "  </thead>\n",
       "  <tbody>\n",
       "    <tr>\n",
       "      <th>0</th>\n",
       "      <td>Drowned Wednesday</td>\n",
       "      <td>fantasy</td>\n",
       "      <td>Drowned Wednesday is the first Trustee among ...</td>\n",
       "    </tr>\n",
       "    <tr>\n",
       "      <th>1</th>\n",
       "      <td>The Lost Hero</td>\n",
       "      <td>fantasy</td>\n",
       "      <td>As the book opens, Jason awakens on a school ...</td>\n",
       "    </tr>\n",
       "    <tr>\n",
       "      <th>2</th>\n",
       "      <td>The Eyes of the Overworld</td>\n",
       "      <td>fantasy</td>\n",
       "      <td>Cugel is easily persuaded by the merchant Fia...</td>\n",
       "    </tr>\n",
       "    <tr>\n",
       "      <th>3</th>\n",
       "      <td>Magic's Promise</td>\n",
       "      <td>fantasy</td>\n",
       "      <td>The book opens with Herald-Mage Vanyel return...</td>\n",
       "    </tr>\n",
       "    <tr>\n",
       "      <th>4</th>\n",
       "      <td>Taran Wanderer</td>\n",
       "      <td>fantasy</td>\n",
       "      <td>Taran and Gurgi have returned to Caer Dallben...</td>\n",
       "    </tr>\n",
       "  </tbody>\n",
       "</table>\n",
       "</div>"
      ],
      "text/plain": [
       "                       title    genre  \\\n",
       "0          Drowned Wednesday  fantasy   \n",
       "1              The Lost Hero  fantasy   \n",
       "2  The Eyes of the Overworld  fantasy   \n",
       "3            Magic's Promise  fantasy   \n",
       "4             Taran Wanderer  fantasy   \n",
       "\n",
       "                                             summary  \n",
       "0   Drowned Wednesday is the first Trustee among ...  \n",
       "1   As the book opens, Jason awakens on a school ...  \n",
       "2   Cugel is easily persuaded by the merchant Fia...  \n",
       "3   The book opens with Herald-Mage Vanyel return...  \n",
       "4   Taran and Gurgi have returned to Caer Dallben...  "
      ]
     },
     "execution_count": 2,
     "metadata": {},
     "output_type": "execute_result"
    }
   ],
   "source": [
    "# Importing the Data\n",
    "data = pd.read_csv('../input/book-genre-prediction/data.csv', usecols=['title', 'genre', 'summary'], dtype=str)\n",
    "data.head()"
   ]
  },
  {
   "cell_type": "code",
   "execution_count": 3,
   "id": "dccd12c7",
   "metadata": {
    "execution": {
     "iopub.execute_input": "2022-10-09T23:06:55.259625Z",
     "iopub.status.busy": "2022-10-09T23:06:55.259217Z",
     "iopub.status.idle": "2022-10-09T23:06:55.269970Z",
     "shell.execute_reply": "2022-10-09T23:06:55.268830Z"
    },
    "papermill": {
     "duration": 0.01658,
     "end_time": "2022-10-09T23:06:55.272181",
     "exception": false,
     "start_time": "2022-10-09T23:06:55.255601",
     "status": "completed"
    },
    "tags": []
   },
   "outputs": [
    {
     "data": {
      "text/plain": [
       "<bound method DataFrame.info of                                   title    genre  \\\n",
       "0                     Drowned Wednesday  fantasy   \n",
       "1                         The Lost Hero  fantasy   \n",
       "2             The Eyes of the Overworld  fantasy   \n",
       "3                       Magic's Promise  fantasy   \n",
       "4                        Taran Wanderer  fantasy   \n",
       "...                                 ...      ...   \n",
       "4652                            Hounded  fantasy   \n",
       "4653  Charlie and the Chocolate Factory  fantasy   \n",
       "4654                         Red Rising  fantasy   \n",
       "4655                          Frostbite  fantasy   \n",
       "4656                           Radiance  fantasy   \n",
       "\n",
       "                                                summary  \n",
       "0      Drowned Wednesday is the first Trustee among ...  \n",
       "1      As the book opens, Jason awakens on a school ...  \n",
       "2      Cugel is easily persuaded by the merchant Fia...  \n",
       "3      The book opens with Herald-Mage Vanyel return...  \n",
       "4      Taran and Gurgi have returned to Caer Dallben...  \n",
       "...                                                 ...  \n",
       "4652  Atticus O’Sullivan, last of the Druids, lives ...  \n",
       "4653  Charlie Bucket's wonderful adventure begins wh...  \n",
       "4654  \"I live for the dream that my children will be...  \n",
       "4655  Rose loves Dimitri, Dimitri might love Tasha, ...  \n",
       "4656  The Prince of no value\\nBrishen Khaskem, princ...  \n",
       "\n",
       "[4657 rows x 3 columns]>"
      ]
     },
     "execution_count": 3,
     "metadata": {},
     "output_type": "execute_result"
    }
   ],
   "source": [
    "# Brief overview of the data how it looks\n",
    "data.info"
   ]
  },
  {
   "cell_type": "code",
   "execution_count": 4,
   "id": "6e1dbb00",
   "metadata": {
    "execution": {
     "iopub.execute_input": "2022-10-09T23:06:55.279819Z",
     "iopub.status.busy": "2022-10-09T23:06:55.279094Z",
     "iopub.status.idle": "2022-10-09T23:06:55.292463Z",
     "shell.execute_reply": "2022-10-09T23:06:55.291220Z"
    },
    "papermill": {
     "duration": 0.01964,
     "end_time": "2022-10-09T23:06:55.294816",
     "exception": false,
     "start_time": "2022-10-09T23:06:55.275176",
     "status": "completed"
    },
    "tags": []
   },
   "outputs": [
    {
     "name": "stdout",
     "output_type": "stream",
     "text": [
      "[\" Thomas Jerome Newton is a humanoid alien who comes to Earth seeking to construct a spaceship to ferry others from his home planet, Anthea, to Earth. Anthea is experiencing a terrible drought after many nuclear wars, and the population has dwindled to less than 300. They have hundreds of superior starships, but for not being used for over 500 years, they are unusable because of little to no fuel. They have no water, loads of food that is slowly dwindling, and feeble solar power. Like all Antheans, he is super-intelligent, but he has been selected to complete this mission for his strength, due to the harsh climate and gravity of Earth compared to the cold, small Anthea. Getting to Earth via a lifeboat, Newton first lands in the state of Kentucky but quickly becomes familiarized with the environment and aspires to become an entrepreneur. Newton uses advanced technology from his home planet to patent many inventions on Earth, and rises as the head of a technology-based conglomerate to incredible wealth. This wealth is needed to construct his own space vehicle program in order to ferry the rest of the Anthean population. Along the way he meets Betty Jo, a simple Kentucky woman. She falls in love with him. He does not share these feelings, but takes her, and his curious fuel-technician Nathan Bryce, as his few friends while he runs his company in the shadows. Betty Jo introduces Newton to many customs of Earth culture, amongst them church-going, fashion, and alcohol. However, his appetite for alcohol soon invokes much emotional instability, as he is forced to deal with intense human emotions with which Antheans are unfamiliar. His secret identity as an alien is discovered by Nathan Bryce, but Newton, aware that he has been discovered, is relieved to reveal his identity to someone for the first time. The Antheans he will ferry to Earth will flourish and hopefully make use of their superintelligence to influence Earth to peace, prosperity, and safety from the apocalypse. However, the CIA arrests Newton, having followed him since his appearance on Earth and having recorded this private conversation with Bryce. They submit him to rigorous tests and analysis, but ultimately find that, despite much conclusive evidence of his alien identity, it would be pointless to release the results because the public would not believe the truth. Such claims would also reflect poorly on the Democratic Party, responsible for the capture. The CIA releases Newton, but no sooner than he tries to exit his building, the FBI, uninformed by the CIA that Newton is exempt from further tests, commences their own brief examinations. Their final examination is ultimately an X-ray of Newton's skull, through his eyes. Newton, whose eyes are sensitive to X-rays, tries to stop them to no avail and is blinded. The story of Newton's blinding reaches the press in a frenzy and then is used by the Republican Party to depict the Democrats as being corrupt, and leads to their seizure of power, which is to inevitably lead to apocalypse. Newton, in a final confrontation with Bryce, is bitterly unable to continue his spaceship project due to planetary alignments having changed during captivity and the troubles of his blindness. He creates a recording of alien messages which he hopes to be broadcast via radio to his home.\"]\n"
     ]
    }
   ],
   "source": [
    "example = data.sample(1, random_state=42, axis=0)\n",
    "print(list(example['summary']))"
   ]
  },
  {
   "cell_type": "code",
   "execution_count": 5,
   "id": "97c2d5ba",
   "metadata": {
    "execution": {
     "iopub.execute_input": "2022-10-09T23:06:55.302242Z",
     "iopub.status.busy": "2022-10-09T23:06:55.301880Z",
     "iopub.status.idle": "2022-10-09T23:06:55.311676Z",
     "shell.execute_reply": "2022-10-09T23:06:55.310459Z"
    },
    "papermill": {
     "duration": 0.017134,
     "end_time": "2022-10-09T23:06:55.315078",
     "exception": false,
     "start_time": "2022-10-09T23:06:55.297944",
     "status": "completed"
    },
    "tags": []
   },
   "outputs": [
    {
     "name": "stdout",
     "output_type": "stream",
     "text": [
      "Number of genres: 10\n",
      "['fantasy' 'science' 'crime' 'history' 'horror' 'thriller' 'psychology'\n",
      " 'romance' 'sports' 'travel']\n"
     ]
    }
   ],
   "source": [
    "genre_list = data['genre'].unique()\n",
    "print('Number of genres:', len(genre_list))\n",
    "print(genre_list)"
   ]
  },
  {
   "cell_type": "code",
   "execution_count": null,
   "id": "6c24dfb0",
   "metadata": {
    "papermill": {
     "duration": 0.002792,
     "end_time": "2022-10-09T23:06:55.321816",
     "exception": false,
     "start_time": "2022-10-09T23:06:55.319024",
     "status": "completed"
    },
    "tags": []
   },
   "outputs": [],
   "source": []
  }
 ],
 "metadata": {
  "kernelspec": {
   "display_name": "Python 3",
   "language": "python",
   "name": "python3"
  },
  "language_info": {
   "codemirror_mode": {
    "name": "ipython",
    "version": 3
   },
   "file_extension": ".py",
   "mimetype": "text/x-python",
   "name": "python",
   "nbconvert_exporter": "python",
   "pygments_lexer": "ipython3",
   "version": "3.7.12"
  },
  "papermill": {
   "default_parameters": {},
   "duration": 19.141041,
   "end_time": "2022-10-09T23:06:58.364369",
   "environment_variables": {},
   "exception": null,
   "input_path": "__notebook__.ipynb",
   "output_path": "__notebook__.ipynb",
   "parameters": {},
   "start_time": "2022-10-09T23:06:39.223328",
   "version": "2.3.4"
  }
 },
 "nbformat": 4,
 "nbformat_minor": 5
}
